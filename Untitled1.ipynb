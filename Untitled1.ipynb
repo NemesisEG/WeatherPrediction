{
 "cells": [
  {
   "cell_type": "code",
   "execution_count": 1,
   "id": "59ffcbc8-c001-4ac1-aaf2-28fa591718f9",
   "metadata": {
    "tags": []
   },
   "outputs": [],
   "source": [
    "import pandas as pd\n",
    "import numpy as np"
   ]
  },
  {
   "cell_type": "code",
   "execution_count": 10,
   "id": "3d475b95-ebc6-4246-bd4e-2b1bcda4a766",
   "metadata": {
    "tags": []
   },
   "outputs": [
    {
     "name": "stdout",
     "output_type": "stream",
     "text": [
      "The range of WSF5 is from 0 to 85\n"
     ]
    }
   ],
   "source": [
    "#Checking the range of the column to fill in the empty places\n",
    "df = pd.read_csv('modified_file.csv')\n",
    "\n",
    "column_name4 = 'WSF5'\n",
    "\n",
    "min_value4 = int(df[column_name4].min())\n",
    "max_value4 = int(df[column_name4].max())\n",
    "\n",
    "print(f\"The range of {column_name4} is from {min_value4} to {max_value4}\")"
   ]
  },
  {
   "cell_type": "code",
   "execution_count": 11,
   "id": "015506a1-8ae1-44e2-abe0-62a9f9d47329",
   "metadata": {
    "tags": []
   },
   "outputs": [],
   "source": [
    "# Find the indices of empty rows in the specified column\n",
    "empty_rows3 = df[df[column_name4].isnull()].index\n",
    "\n",
    "# Fill the empty rows with random values within the range\n",
    "df.loc[empty_rows3, column_name4] = np.random.randint(min_value4, max_value4+1, len(empty_rows3))\n",
    "df[column_name4] = df[column_name4].astype(int)\n",
    "\n",
    "# Save the modified DataFrame back to a CSV file\n",
    "df.to_csv('modified_file.csv', index=False)\n"
   ]
  },
  {
   "cell_type": "code",
   "execution_count": 16,
   "id": "6edb6c2d-8663-407e-847f-17f625350bb7",
   "metadata": {
    "tags": []
   },
   "outputs": [
    {
     "name": "stdout",
     "output_type": "stream",
     "text": [
      "The range of WDF5 is from 0 to 360\n"
     ]
    }
   ],
   "source": [
    "#Checking the range of the column to fill in the empty places\n",
    "df = pd.read_csv('modified_file.csv')\n",
    "\n",
    "column_name5 = 'WDF5'\n",
    "\n",
    "min_value5 = int(df[column_name5].min())\n",
    "max_value5 = int(df[column_name5].max())\n",
    "\n",
    "print(f\"The range of {column_name5} is from {min_value5} to {max_value5}\")"
   ]
  },
  {
   "cell_type": "code",
   "execution_count": 19,
   "id": "0b8f17c8-b175-4f15-bf3e-1d8520cc929a",
   "metadata": {
    "tags": []
   },
   "outputs": [],
   "source": [
    "# Find the indices of empty rows in the specified column\n",
    "empty_rows4 = df[df[column_name5].isnull()].index\n",
    "\n",
    "# Fill the empty rows with random values within the range\n",
    "df.loc[empty_rows4, column_name5] = np.random.randint(min_value5, max_value5+1, len(empty_rows4))\n",
    "df[column_name5] = df[column_name5].astype(int)\n",
    "\n",
    "# Save the modified DataFrame back to a CSV file\n",
    "df.to_csv('modified_file.csv', index=False)\n"
   ]
  },
  {
   "cell_type": "code",
   "execution_count": null,
   "id": "97098b73-813a-4e0c-9889-faaef35281da",
   "metadata": {},
   "outputs": [],
   "source": []
  }
 ],
 "metadata": {
  "kernelspec": {
   "display_name": "Python 3 (ipykernel)",
   "language": "python",
   "name": "python3"
  },
  "language_info": {
   "codemirror_mode": {
    "name": "ipython",
    "version": 3
   },
   "file_extension": ".py",
   "mimetype": "text/x-python",
   "name": "python",
   "nbconvert_exporter": "python",
   "pygments_lexer": "ipython3",
   "version": "3.11.4"
  }
 },
 "nbformat": 4,
 "nbformat_minor": 5
}
